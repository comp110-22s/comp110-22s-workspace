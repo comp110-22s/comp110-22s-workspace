{
 "cells": [
  {
   "cell_type": "markdown",
   "metadata": {},
   "source": [
    "# Analysis for Continuous Improvement\n",
    "\n",
    "Author Name: Hugh Toomey\n",
    "\n",
    "9-digit PID: 730472535\n",
    "\n",
    "Continuous Improvement embraces a belief there is _always room to make things better_. It is a mindset and process we value and practice in this course. In this assignment, you are able to practice continuous improvement and contribute to the design ideas of the course.\n",
    "\n",
    "## Brainstorming Ideas\n",
    "\n",
    "Reflect on your personal experiences and observations in COMP110 and **brainstorm modifications to the course that _create value_ beyond its current design**. When brainstorming, try not to be critical of the ideas you come up with regarding scale, stakeholders impacted, or for any other reasons. In the markdown cell below, brainstorm 3 to 5 ideas you think would create value for you.\n",
    "\n",
    "Each brainstormed idea should state a. the suggested change or addition, b. what the expected value created, and c. which specific stakeholders would benefit.  If helpful, expand on the following template \"The course should (state idea here) because it will (state value created here) for (insert stakeholders here).\"\n",
    "\n",
    "Example A: \"The course should use only examples from psychology experiments because it will be more relevant for students who are psychology majors.\"\n",
    "\n",
    "Example B: \"The course should not have post-lesson questions because they are not useful for most students in the class.\""
   ]
  },
  {
   "cell_type": "markdown",
   "metadata": {},
   "source": [
    "### Part 1. Creative Ideation\n",
    "\n",
    "1. Not all of the lesson quizzes should be graded because they put unnecessary stress on the student's grade.\n",
    "2. Students should sometimes be able to turn in the code they wrote by following along with the lessons for a completion grade if they are able to prove they played with the code and have an understanding of the lesson, so they can boost their grade.\n",
    "3. Comp 110 should be moved to a MWF class so that students are enchouraged to spread out their COMP 110 work over the week.\n",
    "4. Students should have more agency in what the curriculum is and what concepts they want to learn so that they may explore different capabilities of computer science in their respective fields.\n",
    "5. Students should be gived a very short introduction to other coding languages so we can begin to understand the differences."
   ]
  },
  {
   "cell_type": "markdown",
   "metadata": {},
   "source": [
    "## Connecting with Available Data\n",
    "\n",
    "The data you have available for this analysis is limited to the anonymized course survey you and your peers filled out a few weeks ago. The data is found in the `survey.csv` file in this exercise directory. Each row represents an individual survey response. Each column has a description which can be found on the project write-up here: <https://22s.comp110.com/exercises/ex08.html>\n",
    "\n",
    "Review the list of available data and identify which one of your ideas _does not_, or is _least likely to_, have relevant data to support the analysis of your idea to create value. In the box below, identify which of your ideas lacks data and suggest how we might be able to collect this data in the future. One aspect of _continuous improvement_ is trying to avoid \"tunnel vision\" where possible improvements are not considered because there is no data available to analyze it. Identifying new data sources can unlock improvements!"
   ]
  },
  {
   "cell_type": "markdown",
   "metadata": {},
   "source": [
    "### Part 2. Identifying Missing Data\n",
    "\n",
    "1. Idea without sufficient data to analyze: Idea #3\n",
    "\n",
    "2. Suggestion for how to collect data to support this idea in the future: Polling how many hours on average each exercise takes and when in the week most students complete them could help us see if students are spreading out their work well."
   ]
  },
  {
   "cell_type": "markdown",
   "metadata": {},
   "source": [
    "## Choosing an Idea to Analyze\n",
    "\n",
    "Consider those of your ideas which _do_ seem likely to have relevant data to analyze. If none of your ideas do, spend a few minutes and brainstorm another idea or two with the added connection of data available on hand and add those ideas to your brainstormed ideas list.\n",
    "\n",
    "Select the one idea which you believe is _most valuable_ to analyze relative to the others and has data to support the analysis of. In the markdown cell for Part 3 below, identify the idea you are exploring and articulate why you believe it is most valuable (e.g. widest impact, biggest opportunity for improvement, simplest change for significant improvement, and so on)."
   ]
  },
  {
   "cell_type": "markdown",
   "metadata": {},
   "source": [
    "### Part 3. Choosing Your Analysis\n",
    "\n",
    "1. Idea to analyze with available data: Idea 4\n",
    "2. There is already data that could be used to promote this idea. Using values such as interest and how valuable, along with whether or not students are Computer science majors could lead to interesting conclusions. This analysis would be helpful to determine if students want to learn the different pathgs/opportunities that a computer science major provides. Asking a question such as 'How satasfied are you with content of the course?' would provide very direct data for the topic.\n"
   ]
  },
  {
   "cell_type": "markdown",
   "metadata": {},
   "source": [
    "## Your Analysis\n",
    "\n",
    "Before you begin analysis, a reminder that we do not expect the data to support everyone's ideas and you can complete this exercise for full credit even if the data does not clearly support your suggestion or even completely refutes it. What we are looking for is a logical attempt to explore the data using the techniques you have learned up until now in a way that _either_ supports, refutes, or does not have a clear result and then to reflect on your findings after the analysis.\n",
    "\n",
    "Using the utility functions you created for the previous exercise, you will continue with your analysis in the following part. Before you begin, refer to the rubric on the technical expectations of this section in the exercise write-up.\n",
    "\n",
    "In this section, you are expected to interleave code and markdown cells such that for each step of your analysis you are starting with an English description of what you are planning to do next in a markdown cell, followed by a Python cell that performs that step of the analysis."
   ]
  },
  {
   "cell_type": "markdown",
   "metadata": {},
   "source": [
    "### Part 4. Analysis\n",
    "\n",
    "We begin by changing some settings in the notebook to automatically reload changes to imported files."
   ]
  },
  {
   "cell_type": "code",
   "execution_count": 3,
   "metadata": {},
   "outputs": [],
   "source": [
    "%reload_ext autoreload\n",
    "%autoreload 2"
   ]
  },
  {
   "cell_type": "markdown",
   "metadata": {},
   "source": [
    "We continue by importing the helper functions from `data_utils`."
   ]
  },
  {
   "cell_type": "code",
   "execution_count": 2,
   "metadata": {},
   "outputs": [],
   "source": [
    "from data_utils import read_csv_rows\n",
    "\n",
    "from data_utils import column_values\n",
    "\n",
    "from data_utils import columnar\n",
    "\n",
    "from data_utils import head\n",
    "\n",
    "from data_utils import select\n",
    "\n",
    "from data_utils import concat\n",
    "\n",
    "from data_utils import count"
   ]
  },
  {
   "cell_type": "markdown",
   "metadata": {},
   "source": [
    "Next, ... (you take it from here and add additional code and markdown cells to read in the CSV file and process it as needed)"
   ]
  },
  {
   "cell_type": "markdown",
   "metadata": {},
   "source": [
    "## Import the Data in Tabular form\n",
    "This code will read the csv file and return the first 10 rows and select columns in a column based table"
   ]
  },
  {
   "cell_type": "code",
   "execution_count": 15,
   "metadata": {},
   "outputs": [
    {
     "name": "stdout",
     "output_type": "stream",
     "text": [
      "5 columns\n",
      "620 rows\n"
     ]
    },
    {
     "data": {
      "text/html": [
       "<table>\n",
       "<thead>\n",
       "<tr><th>comp_major  </th><th>ap_a  </th><th style=\"text-align: right;\">  interesting</th><th style=\"text-align: right;\">  valuable</th><th>ap_principles  </th></tr>\n",
       "</thead>\n",
       "<tbody>\n",
       "<tr><td>No          </td><td>No    </td><td style=\"text-align: right;\">            5</td><td style=\"text-align: right;\">         6</td><td>No             </td></tr>\n",
       "<tr><td>No          </td><td>      </td><td style=\"text-align: right;\">            4</td><td style=\"text-align: right;\">         6</td><td>               </td></tr>\n",
       "<tr><td>Yes - BA    </td><td>      </td><td style=\"text-align: right;\">            7</td><td style=\"text-align: right;\">         7</td><td>               </td></tr>\n",
       "<tr><td>Yes - BS    </td><td>No    </td><td style=\"text-align: right;\">            6</td><td style=\"text-align: right;\">         6</td><td>No             </td></tr>\n",
       "<tr><td>Yes - BA    </td><td>      </td><td style=\"text-align: right;\">            6</td><td style=\"text-align: right;\">         6</td><td>               </td></tr>\n",
       "<tr><td>Yes - BS    </td><td>No    </td><td style=\"text-align: right;\">            7</td><td style=\"text-align: right;\">         7</td><td>No             </td></tr>\n",
       "<tr><td>Yes - BA    </td><td>No    </td><td style=\"text-align: right;\">            7</td><td style=\"text-align: right;\">         7</td><td>Yes            </td></tr>\n",
       "<tr><td>Yes - BA    </td><td>      </td><td style=\"text-align: right;\">            7</td><td style=\"text-align: right;\">         7</td><td>               </td></tr>\n",
       "<tr><td>Yes - BS    </td><td>      </td><td style=\"text-align: right;\">            7</td><td style=\"text-align: right;\">         7</td><td>               </td></tr>\n",
       "<tr><td>No          </td><td>      </td><td style=\"text-align: right;\">            7</td><td style=\"text-align: right;\">         7</td><td>               </td></tr>\n",
       "</tbody>\n",
       "</table>"
      ],
      "text/plain": [
       "'<table>\\n<thead>\\n<tr><th>comp_major  </th><th>ap_a  </th><th style=\"text-align: right;\">  interesting</th><th style=\"text-align: right;\">  valuable</th><th>ap_principles  </th></tr>\\n</thead>\\n<tbody>\\n<tr><td>No          </td><td>No    </td><td style=\"text-align: right;\">            5</td><td style=\"text-align: right;\">         6</td><td>No             </td></tr>\\n<tr><td>No          </td><td>      </td><td style=\"text-align: right;\">            4</td><td style=\"text-align: right;\">         6</td><td>               </td></tr>\\n<tr><td>Yes - BA    </td><td>      </td><td style=\"text-align: right;\">            7</td><td style=\"text-align: right;\">         7</td><td>               </td></tr>\\n<tr><td>Yes - BS    </td><td>No    </td><td style=\"text-align: right;\">            6</td><td style=\"text-align: right;\">         6</td><td>No             </td></tr>\\n<tr><td>Yes - BA    </td><td>      </td><td style=\"text-align: right;\">            6</td><td style=\"text-align: right;\">         6</td><td>               </td></tr>\\n<tr><td>Yes - BS    </td><td>No    </td><td style=\"text-align: right;\">            7</td><td style=\"text-align: right;\">         7</td><td>No             </td></tr>\\n<tr><td>Yes - BA    </td><td>No    </td><td style=\"text-align: right;\">            7</td><td style=\"text-align: right;\">         7</td><td>Yes            </td></tr>\\n<tr><td>Yes - BA    </td><td>      </td><td style=\"text-align: right;\">            7</td><td style=\"text-align: right;\">         7</td><td>               </td></tr>\\n<tr><td>Yes - BS    </td><td>      </td><td style=\"text-align: right;\">            7</td><td style=\"text-align: right;\">         7</td><td>               </td></tr>\\n<tr><td>No          </td><td>      </td><td style=\"text-align: right;\">            7</td><td style=\"text-align: right;\">         7</td><td>               </td></tr>\\n</tbody>\\n</table>'"
      ]
     },
     "execution_count": 15,
     "metadata": {},
     "output_type": "execute_result"
    }
   ],
   "source": [
    "SURVEY_DATA_CSV_FILE_PATH: str = \"../../data/survey.csv\"\n",
    "\n",
    "criteria: list[str] = [\"comp_major\", \"ap_a\", \"interesting\", \"valuable\", \"ap_principles\"]\n",
    "\n",
    "# complete list of all data I will work with\n",
    "working_set = select(columnar(read_csv_rows(SURVEY_DATA_CSV_FILE_PATH)), criteria)\n",
    "\n",
    "from tabulate import tabulate\n",
    "\n",
    "print(f\"{len(criteria)} columns\")\n",
    "print(f\"{len(working_set['comp_major'])} rows\")\n",
    "\n",
    "# prints a table of the first 5 rows for visual purposes\n",
    "tabulate(head(working_set, 10),working_set.keys(), \"html\")\n",
    "\n"
   ]
  },
  {
   "cell_type": "markdown",
   "metadata": {},
   "source": [
    "## Count and Compare\n",
    "This will return counts of each column that can be compared"
   ]
  },
  {
   "cell_type": "code",
   "execution_count": 17,
   "metadata": {},
   "outputs": [
    {
     "name": "stdout",
     "output_type": "stream",
     "text": [
      "comp_major\n",
      "{'No': 335, 'Yes - BA': 78, 'Yes - BS': 172, 'Yes - Minor': 35}\n",
      "ap_a\n",
      "{'No': 186, '': 369, 'Yes': 65}\n",
      "interesting\n",
      "{'5': 106, '4': 47, '7': 293, '6': 144, '1': 7, '3': 16, '2': 7}\n",
      "valuable\n",
      "{'6': 136, '7': 340, '5': 76, '4': 39, '2': 10, '1': 6, '3': 13}\n",
      "ap_principles\n",
      "{'No': 162, '': 369, 'Yes': 89}\n"
     ]
    }
   ],
   "source": [
    "i: int = 0\n",
    "for column in working_set:\n",
    "    print(criteria[i])\n",
    "    print (count(working_set[column]))\n",
    "    i += 1"
   ]
  },
  {
   "cell_type": "markdown",
   "metadata": {},
   "source": [
    "From this, it's important acknowledge that over half of the students in the class are not computer science majors or minors. Nonetheless, over two thirds of the class rated comp 110 as a 6 or 7 on interest level and even more gave the same rating for valuable level. While most of the date for past ap test experience is inconclusive because students did not answer that prompt, it can be infered that most students have not taken a computer science ap test or did not score well on them."
   ]
  },
  {
   "cell_type": "markdown",
   "metadata": {},
   "source": [
    "## Average\n",
    "This code will return the average response for the interesting and valuable questions."
   ]
  },
  {
   "cell_type": "code",
   "execution_count": 34,
   "metadata": {},
   "outputs": [
    {
     "name": "stdout",
     "output_type": "stream",
     "text": [
      "Average Interest: 5.970967741935484\n",
      "Average Value: 6.124193548387097\n"
     ]
    }
   ],
   "source": [
    "from data_utils import average2\n",
    "\n",
    "average_interest: float = average2(select(working_set, [\"interesting\"]), \"interesting\")\n",
    "#print(average(count(working_set[\"valuable\"])))\n",
    "\n",
    "average_value: float = average2(select(working_set, [\"valuable\"]), \"valuable\")\n",
    "\n",
    "print(f\"Average Interest: {average_interest}\")\n",
    "print(f\"Average Value: {average_value}\")\n",
    "#  for column in working_set:\n",
    "    #  average(count(working_set[column]))"
   ]
  },
  {
   "cell_type": "markdown",
   "metadata": {},
   "source": [
    "## Conclusion\n",
    "\n",
    "In the following markdown cell, write a reflective conclusion given the analysis you performed and identify recommendations.\n",
    "\n",
    "If your analysis of the data supports your idea, state your recommendation for the change and summarize the data analysys results you found which support it. Additionally, describe any extensions or refinements to this idea which might be explored further. Finally, discuss the potential costs, trade-offs, or stakeholders who may be negatively impacted by this proposed change.\n",
    "\n",
    "If your analysis of the data is inconclusive, summarize why your data analysis results were inconclusive in the support of your idea. Additionally, describe what experimental idea implementation or additional data collection might help build more confidence in assessing your idea. Finally, discuss the potential costs, trade-offs, or stakeholders who may be negatively impacted by experimenting with your idea.\n",
    "\n",
    "Finally, if your analysis of the data does not support it, summarize your data analysis results and why it refutes your idea. Discuss the potential costs, trade-offs, or stakeholders who may be negatively impacted by this proposed change. If you disagree with the validity of the findings, describe why your idea still makes sense to implement and what alternative data would better support it. If you agree with the validity of the data analysis, describe what alternate ideas or extensions you would explore instead. "
   ]
  },
  {
   "cell_type": "markdown",
   "metadata": {},
   "source": [
    "### Part 5. Conclusion\n",
    "\n"
   ]
  },
  {
   "cell_type": "markdown",
   "metadata": {},
   "source": [
    "### Findings\n",
    "The conclusions I was able to draw from my data did not support my idea for how to improve the curriculum for this course. While I was worried that not all students were satasfied with the content of the course or wanted a more diverse introduction. From my analysis, I found that a great majority of students were interested in their work and an even greater majority saw the value and relavance in the material they are working with. \n",
    "\n",
    "### Process\n",
    "After importing the data, I first selected the variables I thought would be valuable then printed them in tabular form to create a rough image of my data so I could see common answers and holes in the data. From this visualization I wanted to get a rundown of all the results so I utilized the `count` fuction we utilized in the last exercise. This was well informing, however, I then went further and wrote an `average` fuction to find the average level of interest and importance in the curriculum (which were valued on a scale from 1-7).\n",
    "\n",
    "### Results\n",
    "I could see obvious trends from my `count` data however my `average` data made it clear that the vast majority of students are satasfied with the content of the course. I found that over half of the students chose the top two values in terms of satasfaction with the course.\n",
    "\n",
    "#### Refection\n",
    "I wish I could have utilized more variables in this analysis or cleaned the data to remove existing holes for several of the questions. I think my Idea to create more choice in the curriculum is reasonable but the costs of the UTAs and graders in terms of time commitment could be astronomicale. Further, students who choose to continue computer science should be equally prepared for the following classes. I think alternitively, the class could push more opportunities to use comp outside of the classroom and possibly incentivise students with extra credit. In teh future I would like to explore the difficulty of the class for students who are majors vs non majors. There is lots of data to analyse this prompt and it could improve the lives of future students taking the course.\n"
   ]
  }
 ],
 "metadata": {
  "interpreter": {
   "hash": "aee8b7b246df8f9039afb4144a1f6fd8d2ca17a180786b69acc140d282b71a49"
  },
  "kernelspec": {
   "display_name": "Python 3.10.2 64-bit",
   "language": "python",
   "name": "python3"
  },
  "language_info": {
   "codemirror_mode": {
    "name": "ipython",
    "version": 3
   },
   "file_extension": ".py",
   "mimetype": "text/x-python",
   "name": "python",
   "nbconvert_exporter": "python",
   "pygments_lexer": "ipython3",
   "version": "3.10.1"
  },
  "orig_nbformat": 4
 },
 "nbformat": 4,
 "nbformat_minor": 2
}

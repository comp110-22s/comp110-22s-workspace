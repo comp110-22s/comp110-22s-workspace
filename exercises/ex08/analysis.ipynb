{
 "cells": [
  {
   "cell_type": "markdown",
   "metadata": {},
   "source": [
    "# Analysis for Continuous Improvement\n",
    "\n",
    "Author Name: Naomi Tymann\n",
    "\n",
    "9-digit PID: 730466987\n",
    "\n",
    "Continuous Improvement embraces a belief there is _always room to make things better_. It is a mindset and process we value and practice in this course. In this assignment, you are able to practice continuous improvement and contribute to the design ideas of the course.\n",
    "\n",
    "## Brainstorming Ideas\n",
    "\n",
    "Reflect on your personal experiences and observations in COMP110 and **brainstorm modifications to the course that _create value_ beyond its current design**. When brainstorming, try not to be critical of the ideas you come up with regarding scale, stakeholders impacted, or for any other reasons. In the markdown cell below, brainstorm 3 to 5 ideas you think would create value for you.\n",
    "\n",
    "Each brainstormed idea should state a. the suggested change or addition, b. what the expected value created, and c. which specific stakeholders would benefit.  If helpful, expand on the following template \"The course should (state idea here) because it will (state value created here) for (insert stakeholders here).\"\n",
    "\n",
    "Example A: \"The course should use only examples from psychology experiments because it will be more relevant for students who are psychology majors.\"\n",
    "\n",
    "Example B: \"The course should not have post-lesson questions because they are not useful for most students in the class.\""
   ]
  },
  {
   "cell_type": "markdown",
   "metadata": {},
   "source": [
    "### Part 1. Creative Ideation\n",
    "\n",
    "1. The course should offer tutoring and office hours sessions through Zoom, as well as in person, for students who cannot make it to in person office hours during their operating times.\n",
    "2. The course should encourage more conversations between students after completing examples during lecure for students who want to network with others during class, in addition to the existing support of the TAs.\n",
    "3. The course should have a page available in Coure.Care or on the class website for the semester that features students' current grades in the class, for students who cannot see the progress of their grades during the semester, or for those who are unsure of their grades according to the assignments submitted on Gradescope.\n",
    "4. The course should offer a Listserv or other notification method to involve beginner students in more events from the Computer Science department, both for the students and for faculty looking to mentor or otherwise work with students who share similar academic interests.\n",
    "5. The course lectures and notifications on the website should include more details about computer science jobs that students may be hired for after college, both for the benefit of students and for companies or industries that are looking to hire computer science students after their time as undergraduates."
   ]
  },
  {
   "cell_type": "markdown",
   "metadata": {},
   "source": [
    "## Connecting with Available Data\n",
    "\n",
    "The data you have available for this analysis is limited to the anonymized course survey you and your peers filled out a few weeks ago. The data is found in the `survey.csv` file in this exercise directory. Each row represents an individual survey response. Each column has a description which can be found on the project write-up here: <https://22s.comp110.com/exercises/ex08.html>\n",
    "\n",
    "Review the list of available data and identify which one of your ideas _does not_, or is _least likely to_, have relevant data to support the analysis of your idea to create value. In the box below, identify which of your ideas lacks data and suggest how we might be able to collect this data in the future. One aspect of _continuous improvement_ is trying to avoid \"tunnel vision\" where possible improvements are not considered because there is no data available to analyze it. Identifying new data sources can unlock improvements!"
   ]
  },
  {
   "cell_type": "markdown",
   "metadata": {},
   "source": [
    "### Part 2. Identifying Missing Data\n",
    "\n",
    "1. Idea without sufficient data to analyze: Offering a page on Course.Care for students to check their grades during the semester.\n",
    "\n",
    "2. Suggestion for how to collect data to support this idea in the future: Asking students for input on whether or not they would be comfortable with primarily seeing their grades on a class-hosted site, and rating the level of usefullness of that change on a scale of 1 to 5, with 1 being the lowest and 5 being the highest."
   ]
  },
  {
   "cell_type": "markdown",
   "metadata": {},
   "source": [
    "## Choosing an Idea to Analyze\n",
    "\n",
    "Consider those of your ideas which _do_ seem likely to have relevant data to analyze. If none of your ideas do, spend a few minutes and brainstorm another idea or two with the added connection of data available on hand and add those ideas to your brainstormed ideas list.\n",
    "\n",
    "Select the one idea which you believe is _most valuable_ to analyze relative to the others and has data to support the analysis of. In the markdown cell for Part 3 below, identify the idea you are exploring and articulate why you believe it is most valuable (e.g. widest impact, biggest opportunity for improvement, simplest change for significant improvement, and so on)."
   ]
  },
  {
   "cell_type": "markdown",
   "metadata": {},
   "source": [
    "### Part 3. Choosing Your Analysis\n",
    "\n",
    "1. Idea to analyze with available data: Using a group messaging system to notify students of coding oppurtinities on and around campus.\n",
    "\n",
    "2. This idea is more valuable than the others brainstormed because: It would provide opportunities for computer science majors to find resources in such a competitive major, and it would help non computer science majors find opportunities that could apply to their interests and allow them to combine their knowledge from computer science and their primary majors. Plus, it would help computer science professionals from UNC reach a broader audience to discuss their areas of interest with.\n"
   ]
  },
  {
   "cell_type": "markdown",
   "metadata": {},
   "source": [
    "## Your Analysis\n",
    "\n",
    "Before you begin analysis, a reminder that we do not expect the data to support everyone's ideas and you can complete this exercise for full credit even if the data does not clearly support your suggestion or even completely refutes it. What we are looking for is a logical attempt to explore the data using the techniques you have learned up until now in a way that _either_ supports, refutes, or does not have a clear result and then to reflect on your findings after the analysis.\n",
    "\n",
    "Using the utility functions you created for the previous exercise, you will continue with your analysis in the following part. Before you begin, refer to the rubric on the technical expectations of this section in the exercise write-up.\n",
    "\n",
    "In this section, you are expected to interleave code and markdown cells such that for each step of your analysis you are starting with an English description of what you are planning to do next in a markdown cell, followed by a Python cell that performs that step of the analysis."
   ]
  },
  {
   "cell_type": "markdown",
   "metadata": {},
   "source": [
    "### Part 4. Analysis\n",
    "\n",
    "We begin by changing some settings in the notebook to automatically reload changes to imported files."
   ]
  },
  {
   "cell_type": "code",
   "execution_count": 2,
   "metadata": {},
   "outputs": [],
   "source": [
    "%reload_ext autoreload\n",
    "%autoreload 2"
   ]
  },
  {
   "cell_type": "markdown",
   "metadata": {},
   "source": [
    "We continue by importing the helper functions from `data_utils`, and by establishing the path that the data must go through in the parent directory to reach this file."
   ]
  },
  {
   "cell_type": "code",
   "execution_count": 3,
   "metadata": {},
   "outputs": [],
   "source": [
    "SURVEY_DATA_CSV_FILE_PATH: str = \"../../data/survey.csv\""
   ]
  },
  {
   "cell_type": "markdown",
   "metadata": {},
   "source": [
    "First, we need to import `read_csv_rows` from `data_utils` to import the class survey data into a Jupyter notebook.\n",
    "\n",
    "After importing that function, the print statement will show the number of rows and columns, and it will show the names of each column. It will be important to keep track of this data going forward, as we are going to select specific rows and columns to analyze."
   ]
  },
  {
   "cell_type": "code",
   "execution_count": 4,
   "metadata": {},
   "outputs": [
    {
     "name": "stdout",
     "output_type": "stream",
     "text": [
      "Data File Read: ../../data/survey.csv\n",
      "620 rows\n",
      "35 columns\n",
      "Columns names: dict_keys(['row', 'year', 'unc_status', 'comp_major', 'primary_major', 'data_science', 'prereqs', 'prior_exp', 'ap_principles', 'ap_a', 'other_comp', 'prior_time', 'languages', 'hours_online_social', 'hours_online_work', 'lesson_time', 'sync_perf', 'all_sync', 'flipped_class', 'no_hybrid', 'own_notes', 'own_examples', 'oh_visits', 'ls_effective', 'lsqs_effective', 'programming_effective', 'qz_effective', 'oh_effective', 'tutoring_effective', 'pace', 'difficulty', 'understanding', 'interesting', 'valuable', 'would_recommend'])\n"
     ]
    }
   ],
   "source": [
    "from data_utils import read_csv_rows\n",
    "\n",
    "data_rows: list[dict[str, str]] = read_csv_rows(SURVEY_DATA_CSV_FILE_PATH)\n",
    "\n",
    "print(f\"Data File Read: {SURVEY_DATA_CSV_FILE_PATH}\")\n",
    "print(f\"{len(data_rows)} rows\")\n",
    "print(f\"{len(data_rows[0].keys())} columns\")\n",
    "print(f\"Columns names: {data_rows[0].keys()}\")"
   ]
  },
  {
   "cell_type": "markdown",
   "metadata": {},
   "source": [
    "Now, we must make the row-oriented data from `survey.csv` into column-oriented data.\n",
    "\n",
    "We can do this by importing the `head` function from `data_utils`, as shown below.\n",
    "\n",
    "This will be useful for displaying multiple rows of data at once, rather than showing all of the data in one column, which would happen with `survey.csv` by default."
   ]
  },
  {
   "cell_type": "code",
   "execution_count": 5,
   "metadata": {},
   "outputs": [
    {
     "name": "stdout",
     "output_type": "stream",
     "text": [
      "35 columns\n",
      "620 rows\n",
      "Columns names: dict_keys(['row', 'year', 'unc_status', 'comp_major', 'primary_major', 'data_science', 'prereqs', 'prior_exp', 'ap_principles', 'ap_a', 'other_comp', 'prior_time', 'languages', 'hours_online_social', 'hours_online_work', 'lesson_time', 'sync_perf', 'all_sync', 'flipped_class', 'no_hybrid', 'own_notes', 'own_examples', 'oh_visits', 'ls_effective', 'lsqs_effective', 'programming_effective', 'qz_effective', 'oh_effective', 'tutoring_effective', 'pace', 'difficulty', 'understanding', 'interesting', 'valuable', 'would_recommend'])\n"
     ]
    }
   ],
   "source": [
    "from data_utils import columnar\n",
    "\n",
    "data_cols: dict[str, list[str]] = columnar(data_rows)\n",
    "\n",
    "print(f\"{len(data_cols.keys())} columns\")\n",
    "print(f\"{len(data_cols['row'])} rows\")\n",
    "print(f\"Columns names: {data_cols.keys()}\")"
   ]
  },
  {
   "cell_type": "markdown",
   "metadata": {},
   "source": [
    "Next, we must format the input data into clear rows and columns. This is done by importing the `tabulate` 3rd party command that will format the data into a table. The row values will be the information asked for, and the column values will be the responses."
   ]
  },
  {
   "cell_type": "code",
   "execution_count": 6,
   "metadata": {},
   "outputs": [],
   "source": [
    "from tabulate import tabulate"
   ]
  },
  {
   "cell_type": "markdown",
   "metadata": {},
   "source": [
    "For this analysis, we will be looking at the first 10 rows of class data. The printed statement will not include all of the class data, but it will provide a good example of students' majors (and whether or not they are majoring or minoring in computer science), as well as their experience with related mathematical concepts."
   ]
  },
  {
   "cell_type": "code",
   "execution_count": 7,
   "metadata": {},
   "outputs": [
    {
     "data": {
      "text/html": [
       "<table>\n",
       "<thead>\n",
       "<tr><th style=\"text-align: right;\">  row</th><th style=\"text-align: right;\">  year</th><th>unc_status                 </th><th>comp_major  </th><th>primary_major   </th><th>data_science  </th><th>prereqs                                                                       </th><th>prior_exp                   </th><th>ap_principles  </th><th>ap_a  </th><th>other_comp                      </th><th>prior_time                  </th><th>languages                                                   </th><th>hours_online_social  </th><th>hours_online_work  </th><th style=\"text-align: right;\">  lesson_time</th><th style=\"text-align: right;\">  sync_perf</th><th style=\"text-align: right;\">  all_sync</th><th style=\"text-align: right;\">  flipped_class</th><th style=\"text-align: right;\">  no_hybrid</th><th style=\"text-align: right;\">  own_notes</th><th style=\"text-align: right;\">  own_examples</th><th style=\"text-align: right;\">  oh_visits</th><th style=\"text-align: right;\">  ls_effective</th><th style=\"text-align: right;\">  lsqs_effective</th><th style=\"text-align: right;\">  programming_effective</th><th style=\"text-align: right;\">  qz_effective</th><th>oh_effective  </th><th>tutoring_effective  </th><th style=\"text-align: right;\">  pace</th><th style=\"text-align: right;\">  difficulty</th><th style=\"text-align: right;\">  understanding</th><th style=\"text-align: right;\">  interesting</th><th style=\"text-align: right;\">  valuable</th><th style=\"text-align: right;\">  would_recommend</th></tr>\n",
       "</thead>\n",
       "<tbody>\n",
       "<tr><td style=\"text-align: right;\">    0</td><td style=\"text-align: right;\">    22</td><td>Returning UNC Student      </td><td>No          </td><td>Mathematics     </td><td>No            </td><td>MATH 233, MATH 347, MATH 381                                                  </td><td>7-12 months                 </td><td>No             </td><td>No    </td><td>UNC                             </td><td>1 month or so               </td><td>Python, R / Matlab / SAS                                    </td><td>3 to 5 hours         </td><td>0 to 2 hours       </td><td style=\"text-align: right;\">            6</td><td style=\"text-align: right;\">          2</td><td style=\"text-align: right;\">         2</td><td style=\"text-align: right;\">              1</td><td style=\"text-align: right;\">          2</td><td style=\"text-align: right;\">          4</td><td style=\"text-align: right;\">             4</td><td style=\"text-align: right;\">          0</td><td style=\"text-align: right;\">             7</td><td style=\"text-align: right;\">               3</td><td style=\"text-align: right;\">                      7</td><td style=\"text-align: right;\">             5</td><td>              </td><td>                    </td><td style=\"text-align: right;\">     1</td><td style=\"text-align: right;\">           1</td><td style=\"text-align: right;\">              7</td><td style=\"text-align: right;\">            5</td><td style=\"text-align: right;\">         6</td><td style=\"text-align: right;\">                5</td></tr>\n",
       "<tr><td style=\"text-align: right;\">    1</td><td style=\"text-align: right;\">    25</td><td>Returning UNC Student      </td><td>No          </td><td>Mathematics     </td><td>Yes           </td><td>MATH 130, MATH 231, STOR 155                                                  </td><td>None to less than one month!</td><td>               </td><td>      </td><td>                                </td><td>                            </td><td>                                                            </td><td>0 to 2 hours         </td><td>5 to 10 hours      </td><td style=\"text-align: right;\">            4</td><td style=\"text-align: right;\">          3</td><td style=\"text-align: right;\">         3</td><td style=\"text-align: right;\">              1</td><td style=\"text-align: right;\">          2</td><td style=\"text-align: right;\">          6</td><td style=\"text-align: right;\">             4</td><td style=\"text-align: right;\">          5</td><td style=\"text-align: right;\">             5</td><td style=\"text-align: right;\">               5</td><td style=\"text-align: right;\">                      5</td><td style=\"text-align: right;\">             5</td><td>7             </td><td>6                   </td><td style=\"text-align: right;\">     6</td><td style=\"text-align: right;\">           6</td><td style=\"text-align: right;\">              3</td><td style=\"text-align: right;\">            4</td><td style=\"text-align: right;\">         6</td><td style=\"text-align: right;\">                4</td></tr>\n",
       "<tr><td style=\"text-align: right;\">    2</td><td style=\"text-align: right;\">    25</td><td>Incoming First-year Student</td><td>Yes - BA    </td><td>Computer Science</td><td>No            </td><td>MATH 130, MATH 152, MATH 210                                                  </td><td>None to less than one month!</td><td>               </td><td>      </td><td>                                </td><td>                            </td><td>                                                            </td><td>3 to 5 hours         </td><td>5 to 10 hours      </td><td style=\"text-align: right;\">            3</td><td style=\"text-align: right;\">          3</td><td style=\"text-align: right;\">         4</td><td style=\"text-align: right;\">              2</td><td style=\"text-align: right;\">          1</td><td style=\"text-align: right;\">          7</td><td style=\"text-align: right;\">             7</td><td style=\"text-align: right;\">          2</td><td style=\"text-align: right;\">             5</td><td style=\"text-align: right;\">               6</td><td style=\"text-align: right;\">                      7</td><td style=\"text-align: right;\">             7</td><td>4             </td><td>                    </td><td style=\"text-align: right;\">     6</td><td style=\"text-align: right;\">           4</td><td style=\"text-align: right;\">              6</td><td style=\"text-align: right;\">            7</td><td style=\"text-align: right;\">         7</td><td style=\"text-align: right;\">                7</td></tr>\n",
       "<tr><td style=\"text-align: right;\">    3</td><td style=\"text-align: right;\">    24</td><td>Returning UNC Student      </td><td>Yes - BS    </td><td>Computer Science</td><td>Maybe         </td><td>MATH 231, MATH 232, STOR 155                                                  </td><td>2-6 months                  </td><td>No             </td><td>No    </td><td>High school course (IB or other)</td><td>None to less than one month!</td><td>Python                                                      </td><td>3 to 5 hours         </td><td>3 to 5 hours       </td><td style=\"text-align: right;\">            5</td><td style=\"text-align: right;\">          5</td><td style=\"text-align: right;\">         4</td><td style=\"text-align: right;\">              3</td><td style=\"text-align: right;\">          3</td><td style=\"text-align: right;\">          6</td><td style=\"text-align: right;\">             5</td><td style=\"text-align: right;\">          1</td><td style=\"text-align: right;\">             6</td><td style=\"text-align: right;\">               3</td><td style=\"text-align: right;\">                      5</td><td style=\"text-align: right;\">             5</td><td>5             </td><td>4                   </td><td style=\"text-align: right;\">     4</td><td style=\"text-align: right;\">           4</td><td style=\"text-align: right;\">              5</td><td style=\"text-align: right;\">            6</td><td style=\"text-align: right;\">         6</td><td style=\"text-align: right;\">                6</td></tr>\n",
       "<tr><td style=\"text-align: right;\">    4</td><td style=\"text-align: right;\">    25</td><td>Incoming First-year Student</td><td>Yes - BA    </td><td>Computer Science</td><td>No            </td><td>MATH 130                                                                      </td><td>None to less than one month!</td><td>               </td><td>      </td><td>                                </td><td>                            </td><td>                                                            </td><td>0 to 2 hours         </td><td>3 to 5 hours       </td><td style=\"text-align: right;\">            7</td><td style=\"text-align: right;\">          3</td><td style=\"text-align: right;\">         3</td><td style=\"text-align: right;\">              3</td><td style=\"text-align: right;\">          2</td><td style=\"text-align: right;\">          6</td><td style=\"text-align: right;\">             3</td><td style=\"text-align: right;\">          5</td><td style=\"text-align: right;\">             6</td><td style=\"text-align: right;\">               6</td><td style=\"text-align: right;\">                      6</td><td style=\"text-align: right;\">             6</td><td>7             </td><td>3                   </td><td style=\"text-align: right;\">     6</td><td style=\"text-align: right;\">           5</td><td style=\"text-align: right;\">              5</td><td style=\"text-align: right;\">            6</td><td style=\"text-align: right;\">         6</td><td style=\"text-align: right;\">                7</td></tr>\n",
       "<tr><td style=\"text-align: right;\">    5</td><td style=\"text-align: right;\">    25</td><td>Incoming First-year Student</td><td>Yes - BS    </td><td>Computer Science</td><td>Maybe         </td><td>MATH 129P, MATH 231, MATH 232, STOR 155                                       </td><td>2-6 months                  </td><td>No             </td><td>No    </td><td>High school course (IB or other)</td><td>1 month or so               </td><td>Python, Java / C#, JavaScript / TypeScript, HTML / CSS      </td><td>10+ hours            </td><td>5 to 10 hours      </td><td style=\"text-align: right;\">            5</td><td style=\"text-align: right;\">          2</td><td style=\"text-align: right;\">         2</td><td style=\"text-align: right;\">              2</td><td style=\"text-align: right;\">          1</td><td style=\"text-align: right;\">          5</td><td style=\"text-align: right;\">             5</td><td style=\"text-align: right;\">          0</td><td style=\"text-align: right;\">             7</td><td style=\"text-align: right;\">               7</td><td style=\"text-align: right;\">                      7</td><td style=\"text-align: right;\">             7</td><td>              </td><td>                    </td><td style=\"text-align: right;\">     4</td><td style=\"text-align: right;\">           3</td><td style=\"text-align: right;\">              6</td><td style=\"text-align: right;\">            7</td><td style=\"text-align: right;\">         7</td><td style=\"text-align: right;\">                7</td></tr>\n",
       "<tr><td style=\"text-align: right;\">    6</td><td style=\"text-align: right;\">    25</td><td>Incoming First-year Student</td><td>Yes - BA    </td><td>Computer Science</td><td>Yes           </td><td>MATH 129P, MATH 130                                                           </td><td>2-6 months                  </td><td>Yes            </td><td>No    </td><td>High school course (IB or other)</td><td>7-12 months                 </td><td>Python, Java / C#, JavaScript / TypeScript, HTML / CSS, Bash</td><td>3 to 5 hours         </td><td>5 to 10 hours      </td><td style=\"text-align: right;\">            5</td><td style=\"text-align: right;\">          3</td><td style=\"text-align: right;\">         3</td><td style=\"text-align: right;\">              5</td><td style=\"text-align: right;\">          3</td><td style=\"text-align: right;\">          7</td><td style=\"text-align: right;\">             7</td><td style=\"text-align: right;\">          2</td><td style=\"text-align: right;\">             7</td><td style=\"text-align: right;\">               5</td><td style=\"text-align: right;\">                      7</td><td style=\"text-align: right;\">             5</td><td>4             </td><td>4                   </td><td style=\"text-align: right;\">     4</td><td style=\"text-align: right;\">           4</td><td style=\"text-align: right;\">              6</td><td style=\"text-align: right;\">            7</td><td style=\"text-align: right;\">         7</td><td style=\"text-align: right;\">                7</td></tr>\n",
       "<tr><td style=\"text-align: right;\">    7</td><td style=\"text-align: right;\">    24</td><td>Returning UNC Student      </td><td>Yes - BA    </td><td>Neuroscience    </td><td>No            </td><td>MATH 130, MATH 152, MATH 231, MATH 232, MATH 233, MATH 381, PSYC 210, STOR 155</td><td>None to less than one month!</td><td>               </td><td>      </td><td>                                </td><td>                            </td><td>                                                            </td><td>5 to 10 hours        </td><td>5 to 10 hours      </td><td style=\"text-align: right;\">            1</td><td style=\"text-align: right;\">          2</td><td style=\"text-align: right;\">         2</td><td style=\"text-align: right;\">              1</td><td style=\"text-align: right;\">          1</td><td style=\"text-align: right;\">          7</td><td style=\"text-align: right;\">             7</td><td style=\"text-align: right;\">          0</td><td style=\"text-align: right;\">             7</td><td style=\"text-align: right;\">               7</td><td style=\"text-align: right;\">                      7</td><td style=\"text-align: right;\">             7</td><td>7             </td><td>                    </td><td style=\"text-align: right;\">     4</td><td style=\"text-align: right;\">           4</td><td style=\"text-align: right;\">              7</td><td style=\"text-align: right;\">            7</td><td style=\"text-align: right;\">         7</td><td style=\"text-align: right;\">                7</td></tr>\n",
       "<tr><td style=\"text-align: right;\">    8</td><td style=\"text-align: right;\">    25</td><td>Incoming First-year Student</td><td>Yes - BS    </td><td>Computer Science</td><td>Yes           </td><td>STOR 120                                                                      </td><td>None to less than one month!</td><td>               </td><td>      </td><td>                                </td><td>                            </td><td>                                                            </td><td>0 to 2 hours         </td><td>10+ hours          </td><td style=\"text-align: right;\">            1</td><td style=\"text-align: right;\">          5</td><td style=\"text-align: right;\">         4</td><td style=\"text-align: right;\">              6</td><td style=\"text-align: right;\">          5</td><td style=\"text-align: right;\">          7</td><td style=\"text-align: right;\">             7</td><td style=\"text-align: right;\">          1</td><td style=\"text-align: right;\">             7</td><td style=\"text-align: right;\">               7</td><td style=\"text-align: right;\">                      7</td><td style=\"text-align: right;\">             7</td><td>7             </td><td>7                   </td><td style=\"text-align: right;\">     5</td><td style=\"text-align: right;\">           4</td><td style=\"text-align: right;\">              6</td><td style=\"text-align: right;\">            7</td><td style=\"text-align: right;\">         7</td><td style=\"text-align: right;\">                7</td></tr>\n",
       "<tr><td style=\"text-align: right;\">    9</td><td style=\"text-align: right;\">    22</td><td>Returning UNC Student      </td><td>No          </td><td>Neuroscience    </td><td>No            </td><td>MATH 130, MATH 231, MATH 232, PSYC 210                                        </td><td>None to less than one month!</td><td>               </td><td>      </td><td>                                </td><td>                            </td><td>                                                            </td><td>3 to 5 hours         </td><td>5 to 10 hours      </td><td style=\"text-align: right;\">            5</td><td style=\"text-align: right;\">          2</td><td style=\"text-align: right;\">         2</td><td style=\"text-align: right;\">              1</td><td style=\"text-align: right;\">          1</td><td style=\"text-align: right;\">          7</td><td style=\"text-align: right;\">             7</td><td style=\"text-align: right;\">          2</td><td style=\"text-align: right;\">             7</td><td style=\"text-align: right;\">               5</td><td style=\"text-align: right;\">                      7</td><td style=\"text-align: right;\">             7</td><td>7             </td><td>                    </td><td style=\"text-align: right;\">     7</td><td style=\"text-align: right;\">           4</td><td style=\"text-align: right;\">              6</td><td style=\"text-align: right;\">            7</td><td style=\"text-align: right;\">         7</td><td style=\"text-align: right;\">                7</td></tr>\n",
       "</tbody>\n",
       "</table>"
      ],
      "text/plain": [
       "'<table>\\n<thead>\\n<tr><th style=\"text-align: right;\">  row</th><th style=\"text-align: right;\">  year</th><th>unc_status                 </th><th>comp_major  </th><th>primary_major   </th><th>data_science  </th><th>prereqs                                                                       </th><th>prior_exp                   </th><th>ap_principles  </th><th>ap_a  </th><th>other_comp                      </th><th>prior_time                  </th><th>languages                                                   </th><th>hours_online_social  </th><th>hours_online_work  </th><th style=\"text-align: right;\">  lesson_time</th><th style=\"text-align: right;\">  sync_perf</th><th style=\"text-align: right;\">  all_sync</th><th style=\"text-align: right;\">  flipped_class</th><th style=\"text-align: right;\">  no_hybrid</th><th style=\"text-align: right;\">  own_notes</th><th style=\"text-align: right;\">  own_examples</th><th style=\"text-align: right;\">  oh_visits</th><th style=\"text-align: right;\">  ls_effective</th><th style=\"text-align: right;\">  lsqs_effective</th><th style=\"text-align: right;\">  programming_effective</th><th style=\"text-align: right;\">  qz_effective</th><th>oh_effective  </th><th>tutoring_effective  </th><th style=\"text-align: right;\">  pace</th><th style=\"text-align: right;\">  difficulty</th><th style=\"text-align: right;\">  understanding</th><th style=\"text-align: right;\">  interesting</th><th style=\"text-align: right;\">  valuable</th><th style=\"text-align: right;\">  would_recommend</th></tr>\\n</thead>\\n<tbody>\\n<tr><td style=\"text-align: right;\">    0</td><td style=\"text-align: right;\">    22</td><td>Returning UNC Student      </td><td>No          </td><td>Mathematics     </td><td>No            </td><td>MATH 233, MATH 347, MATH 381                                                  </td><td>7-12 months                 </td><td>No             </td><td>No    </td><td>UNC                             </td><td>1 month or so               </td><td>Python, R / Matlab / SAS                                    </td><td>3 to 5 hours         </td><td>0 to 2 hours       </td><td style=\"text-align: right;\">            6</td><td style=\"text-align: right;\">          2</td><td style=\"text-align: right;\">         2</td><td style=\"text-align: right;\">              1</td><td style=\"text-align: right;\">          2</td><td style=\"text-align: right;\">          4</td><td style=\"text-align: right;\">             4</td><td style=\"text-align: right;\">          0</td><td style=\"text-align: right;\">             7</td><td style=\"text-align: right;\">               3</td><td style=\"text-align: right;\">                      7</td><td style=\"text-align: right;\">             5</td><td>              </td><td>                    </td><td style=\"text-align: right;\">     1</td><td style=\"text-align: right;\">           1</td><td style=\"text-align: right;\">              7</td><td style=\"text-align: right;\">            5</td><td style=\"text-align: right;\">         6</td><td style=\"text-align: right;\">                5</td></tr>\\n<tr><td style=\"text-align: right;\">    1</td><td style=\"text-align: right;\">    25</td><td>Returning UNC Student      </td><td>No          </td><td>Mathematics     </td><td>Yes           </td><td>MATH 130, MATH 231, STOR 155                                                  </td><td>None to less than one month!</td><td>               </td><td>      </td><td>                                </td><td>                            </td><td>                                                            </td><td>0 to 2 hours         </td><td>5 to 10 hours      </td><td style=\"text-align: right;\">            4</td><td style=\"text-align: right;\">          3</td><td style=\"text-align: right;\">         3</td><td style=\"text-align: right;\">              1</td><td style=\"text-align: right;\">          2</td><td style=\"text-align: right;\">          6</td><td style=\"text-align: right;\">             4</td><td style=\"text-align: right;\">          5</td><td style=\"text-align: right;\">             5</td><td style=\"text-align: right;\">               5</td><td style=\"text-align: right;\">                      5</td><td style=\"text-align: right;\">             5</td><td>7             </td><td>6                   </td><td style=\"text-align: right;\">     6</td><td style=\"text-align: right;\">           6</td><td style=\"text-align: right;\">              3</td><td style=\"text-align: right;\">            4</td><td style=\"text-align: right;\">         6</td><td style=\"text-align: right;\">                4</td></tr>\\n<tr><td style=\"text-align: right;\">    2</td><td style=\"text-align: right;\">    25</td><td>Incoming First-year Student</td><td>Yes - BA    </td><td>Computer Science</td><td>No            </td><td>MATH 130, MATH 152, MATH 210                                                  </td><td>None to less than one month!</td><td>               </td><td>      </td><td>                                </td><td>                            </td><td>                                                            </td><td>3 to 5 hours         </td><td>5 to 10 hours      </td><td style=\"text-align: right;\">            3</td><td style=\"text-align: right;\">          3</td><td style=\"text-align: right;\">         4</td><td style=\"text-align: right;\">              2</td><td style=\"text-align: right;\">          1</td><td style=\"text-align: right;\">          7</td><td style=\"text-align: right;\">             7</td><td style=\"text-align: right;\">          2</td><td style=\"text-align: right;\">             5</td><td style=\"text-align: right;\">               6</td><td style=\"text-align: right;\">                      7</td><td style=\"text-align: right;\">             7</td><td>4             </td><td>                    </td><td style=\"text-align: right;\">     6</td><td style=\"text-align: right;\">           4</td><td style=\"text-align: right;\">              6</td><td style=\"text-align: right;\">            7</td><td style=\"text-align: right;\">         7</td><td style=\"text-align: right;\">                7</td></tr>\\n<tr><td style=\"text-align: right;\">    3</td><td style=\"text-align: right;\">    24</td><td>Returning UNC Student      </td><td>Yes - BS    </td><td>Computer Science</td><td>Maybe         </td><td>MATH 231, MATH 232, STOR 155                                                  </td><td>2-6 months                  </td><td>No             </td><td>No    </td><td>High school course (IB or other)</td><td>None to less than one month!</td><td>Python                                                      </td><td>3 to 5 hours         </td><td>3 to 5 hours       </td><td style=\"text-align: right;\">            5</td><td style=\"text-align: right;\">          5</td><td style=\"text-align: right;\">         4</td><td style=\"text-align: right;\">              3</td><td style=\"text-align: right;\">          3</td><td style=\"text-align: right;\">          6</td><td style=\"text-align: right;\">             5</td><td style=\"text-align: right;\">          1</td><td style=\"text-align: right;\">             6</td><td style=\"text-align: right;\">               3</td><td style=\"text-align: right;\">                      5</td><td style=\"text-align: right;\">             5</td><td>5             </td><td>4                   </td><td style=\"text-align: right;\">     4</td><td style=\"text-align: right;\">           4</td><td style=\"text-align: right;\">              5</td><td style=\"text-align: right;\">            6</td><td style=\"text-align: right;\">         6</td><td style=\"text-align: right;\">                6</td></tr>\\n<tr><td style=\"text-align: right;\">    4</td><td style=\"text-align: right;\">    25</td><td>Incoming First-year Student</td><td>Yes - BA    </td><td>Computer Science</td><td>No            </td><td>MATH 130                                                                      </td><td>None to less than one month!</td><td>               </td><td>      </td><td>                                </td><td>                            </td><td>                                                            </td><td>0 to 2 hours         </td><td>3 to 5 hours       </td><td style=\"text-align: right;\">            7</td><td style=\"text-align: right;\">          3</td><td style=\"text-align: right;\">         3</td><td style=\"text-align: right;\">              3</td><td style=\"text-align: right;\">          2</td><td style=\"text-align: right;\">          6</td><td style=\"text-align: right;\">             3</td><td style=\"text-align: right;\">          5</td><td style=\"text-align: right;\">             6</td><td style=\"text-align: right;\">               6</td><td style=\"text-align: right;\">                      6</td><td style=\"text-align: right;\">             6</td><td>7             </td><td>3                   </td><td style=\"text-align: right;\">     6</td><td style=\"text-align: right;\">           5</td><td style=\"text-align: right;\">              5</td><td style=\"text-align: right;\">            6</td><td style=\"text-align: right;\">         6</td><td style=\"text-align: right;\">                7</td></tr>\\n<tr><td style=\"text-align: right;\">    5</td><td style=\"text-align: right;\">    25</td><td>Incoming First-year Student</td><td>Yes - BS    </td><td>Computer Science</td><td>Maybe         </td><td>MATH 129P, MATH 231, MATH 232, STOR 155                                       </td><td>2-6 months                  </td><td>No             </td><td>No    </td><td>High school course (IB or other)</td><td>1 month or so               </td><td>Python, Java / C#, JavaScript / TypeScript, HTML / CSS      </td><td>10+ hours            </td><td>5 to 10 hours      </td><td style=\"text-align: right;\">            5</td><td style=\"text-align: right;\">          2</td><td style=\"text-align: right;\">         2</td><td style=\"text-align: right;\">              2</td><td style=\"text-align: right;\">          1</td><td style=\"text-align: right;\">          5</td><td style=\"text-align: right;\">             5</td><td style=\"text-align: right;\">          0</td><td style=\"text-align: right;\">             7</td><td style=\"text-align: right;\">               7</td><td style=\"text-align: right;\">                      7</td><td style=\"text-align: right;\">             7</td><td>              </td><td>                    </td><td style=\"text-align: right;\">     4</td><td style=\"text-align: right;\">           3</td><td style=\"text-align: right;\">              6</td><td style=\"text-align: right;\">            7</td><td style=\"text-align: right;\">         7</td><td style=\"text-align: right;\">                7</td></tr>\\n<tr><td style=\"text-align: right;\">    6</td><td style=\"text-align: right;\">    25</td><td>Incoming First-year Student</td><td>Yes - BA    </td><td>Computer Science</td><td>Yes           </td><td>MATH 129P, MATH 130                                                           </td><td>2-6 months                  </td><td>Yes            </td><td>No    </td><td>High school course (IB or other)</td><td>7-12 months                 </td><td>Python, Java / C#, JavaScript / TypeScript, HTML / CSS, Bash</td><td>3 to 5 hours         </td><td>5 to 10 hours      </td><td style=\"text-align: right;\">            5</td><td style=\"text-align: right;\">          3</td><td style=\"text-align: right;\">         3</td><td style=\"text-align: right;\">              5</td><td style=\"text-align: right;\">          3</td><td style=\"text-align: right;\">          7</td><td style=\"text-align: right;\">             7</td><td style=\"text-align: right;\">          2</td><td style=\"text-align: right;\">             7</td><td style=\"text-align: right;\">               5</td><td style=\"text-align: right;\">                      7</td><td style=\"text-align: right;\">             5</td><td>4             </td><td>4                   </td><td style=\"text-align: right;\">     4</td><td style=\"text-align: right;\">           4</td><td style=\"text-align: right;\">              6</td><td style=\"text-align: right;\">            7</td><td style=\"text-align: right;\">         7</td><td style=\"text-align: right;\">                7</td></tr>\\n<tr><td style=\"text-align: right;\">    7</td><td style=\"text-align: right;\">    24</td><td>Returning UNC Student      </td><td>Yes - BA    </td><td>Neuroscience    </td><td>No            </td><td>MATH 130, MATH 152, MATH 231, MATH 232, MATH 233, MATH 381, PSYC 210, STOR 155</td><td>None to less than one month!</td><td>               </td><td>      </td><td>                                </td><td>                            </td><td>                                                            </td><td>5 to 10 hours        </td><td>5 to 10 hours      </td><td style=\"text-align: right;\">            1</td><td style=\"text-align: right;\">          2</td><td style=\"text-align: right;\">         2</td><td style=\"text-align: right;\">              1</td><td style=\"text-align: right;\">          1</td><td style=\"text-align: right;\">          7</td><td style=\"text-align: right;\">             7</td><td style=\"text-align: right;\">          0</td><td style=\"text-align: right;\">             7</td><td style=\"text-align: right;\">               7</td><td style=\"text-align: right;\">                      7</td><td style=\"text-align: right;\">             7</td><td>7             </td><td>                    </td><td style=\"text-align: right;\">     4</td><td style=\"text-align: right;\">           4</td><td style=\"text-align: right;\">              7</td><td style=\"text-align: right;\">            7</td><td style=\"text-align: right;\">         7</td><td style=\"text-align: right;\">                7</td></tr>\\n<tr><td style=\"text-align: right;\">    8</td><td style=\"text-align: right;\">    25</td><td>Incoming First-year Student</td><td>Yes - BS    </td><td>Computer Science</td><td>Yes           </td><td>STOR 120                                                                      </td><td>None to less than one month!</td><td>               </td><td>      </td><td>                                </td><td>                            </td><td>                                                            </td><td>0 to 2 hours         </td><td>10+ hours          </td><td style=\"text-align: right;\">            1</td><td style=\"text-align: right;\">          5</td><td style=\"text-align: right;\">         4</td><td style=\"text-align: right;\">              6</td><td style=\"text-align: right;\">          5</td><td style=\"text-align: right;\">          7</td><td style=\"text-align: right;\">             7</td><td style=\"text-align: right;\">          1</td><td style=\"text-align: right;\">             7</td><td style=\"text-align: right;\">               7</td><td style=\"text-align: right;\">                      7</td><td style=\"text-align: right;\">             7</td><td>7             </td><td>7                   </td><td style=\"text-align: right;\">     5</td><td style=\"text-align: right;\">           4</td><td style=\"text-align: right;\">              6</td><td style=\"text-align: right;\">            7</td><td style=\"text-align: right;\">         7</td><td style=\"text-align: right;\">                7</td></tr>\\n<tr><td style=\"text-align: right;\">    9</td><td style=\"text-align: right;\">    22</td><td>Returning UNC Student      </td><td>No          </td><td>Neuroscience    </td><td>No            </td><td>MATH 130, MATH 231, MATH 232, PSYC 210                                        </td><td>None to less than one month!</td><td>               </td><td>      </td><td>                                </td><td>                            </td><td>                                                            </td><td>3 to 5 hours         </td><td>5 to 10 hours      </td><td style=\"text-align: right;\">            5</td><td style=\"text-align: right;\">          2</td><td style=\"text-align: right;\">         2</td><td style=\"text-align: right;\">              1</td><td style=\"text-align: right;\">          1</td><td style=\"text-align: right;\">          7</td><td style=\"text-align: right;\">             7</td><td style=\"text-align: right;\">          2</td><td style=\"text-align: right;\">             7</td><td style=\"text-align: right;\">               5</td><td style=\"text-align: right;\">                      7</td><td style=\"text-align: right;\">             7</td><td>7             </td><td>                    </td><td style=\"text-align: right;\">     7</td><td style=\"text-align: right;\">           4</td><td style=\"text-align: right;\">              6</td><td style=\"text-align: right;\">            7</td><td style=\"text-align: right;\">         7</td><td style=\"text-align: right;\">                7</td></tr>\\n</tbody>\\n</table>'"
      ]
     },
     "execution_count": 7,
     "metadata": {},
     "output_type": "execute_result"
    }
   ],
   "source": [
    "from data_utils import head\n",
    "\n",
    "data_cols_head: dict[str, list[str]] = head(data_cols, 10)\n",
    "\n",
    "tabulate(data_cols_head, data_cols_head.keys(), \"html\")"
   ]
  },
  {
   "cell_type": "markdown",
   "metadata": {},
   "source": [
    "Now, we must add the `select` function from `data_utils` to select the columns of interest in from the 10-row data set.\n",
    "\n",
    "For this analysis, we will be selecting the `comp_major`, `prior_exp`, and `valuable` columns.\n",
    "\n",
    "We will also be making a separate variable, `first_ten_rows`, to store the dicts for each of the selected columns for usage later in this analysis."
   ]
  },
  {
   "cell_type": "code",
   "execution_count": 8,
   "metadata": {},
   "outputs": [],
   "source": [
    "from data_utils import select\n",
    "\n",
    "selected_data: dict[str, list[str]] = select(data_cols, [\"comp_major\", \"prior_exp\", \"valuable\"])\n",
    "\n",
    "tabulate(head(selected_data, 10), selected_data.keys(), \"html\")\n",
    "\n",
    "first_ten: dict = (head(selected_data, 10))"
   ]
  },
  {
   "cell_type": "markdown",
   "metadata": {},
   "source": [
    "Now that we have selected the data of interest, we can find the number of instances of each row value in each column value by importing the `count` function."
   ]
  },
  {
   "cell_type": "code",
   "execution_count": 9,
   "metadata": {},
   "outputs": [
    {
     "name": "stdout",
     "output_type": "stream",
     "text": [
      "comp_major_counts: {'No': 3, 'Yes - BA': 4, 'Yes - BS': 3}\n",
      "prior_exp_counts: {'7-12 months': 1, 'None to less than one month!': 6, '2-6 months': 3}\n",
      "valuable_counts: {'6': 4, '7': 6}\n"
     ]
    }
   ],
   "source": [
    "from data_utils import count\n",
    "\n",
    "comp_major_counts: dict[str, int] = count(first_ten[\"comp_major\"])\n",
    "print(f\"comp_major_counts: {comp_major_counts}\")\n",
    "\n",
    "prior_exp_counts: dict[str, int] = count(first_ten[\"prior_exp\"])\n",
    "print(f\"prior_exp_counts: {prior_exp_counts}\")\n",
    "\n",
    "valuable_counts: dict[str, int] = count(first_ten[\"valuable\"])\n",
    "print(f\"valuable_counts: {valuable_counts}\")"
   ]
  },
  {
   "cell_type": "markdown",
   "metadata": {},
   "source": [
    "Using the counts from the code cell above, we can implement a new function, `most_common`, to print the most common row values in each column (which are the most common responses for each category). We will also analyze these data."
   ]
  },
  {
   "cell_type": "code",
   "execution_count": 10,
   "metadata": {},
   "outputs": [
    {
     "name": "stdout",
     "output_type": "stream",
     "text": [
      "The most common response to comp_major_counts is Yes - BA\n",
      "The most common response to prior_exp_counts is {'7-12 months': 1, 'None to less than one month!': 6, '2-6 months': 3}\n",
      "The most common response to valuable_counts is {'6': 4, '7': 6}\n"
     ]
    }
   ],
   "source": [
    "from data_utils import most_common\n",
    "\n",
    "comp_major_most_common: str = most_common(comp_major_counts)\n",
    "print(f\"The most common response to comp_major_counts is {comp_major_most_common}\")\n",
    "\n",
    "prior_exp_most_common: str = most_common(prior_exp_counts)\n",
    "print(f\"The most common response to prior_exp_counts is {prior_exp_counts}\")\n",
    "\n",
    "valuable_most_common: str = most_common(valuable_counts)\n",
    "print(f\"The most common response to valuable_counts is {valuable_counts}\")"
   ]
  },
  {
   "cell_type": "markdown",
   "metadata": {},
   "source": [
    "Now that we know the most common responses to the chosen questions, we can visualize this data in a chart using the `matplotlib` 3rd party library function."
   ]
  },
  {
   "cell_type": "code",
   "execution_count": 11,
   "metadata": {},
   "outputs": [
    {
     "ename": "IndexError",
     "evalue": "index 2 is out of bounds for axis 0 with size 2",
     "output_type": "error",
     "traceback": [
      "\u001b[1;31m---------------------------------------------------------------------------\u001b[0m",
      "\u001b[1;31mIndexError\u001b[0m                                Traceback (most recent call last)",
      "Input \u001b[1;32mIn [11]\u001b[0m, in \u001b[0;36m<cell line: 15>\u001b[1;34m()\u001b[0m\n\u001b[0;32m     12\u001b[0m axes[\u001b[39m1\u001b[39m]\u001b[39m.\u001b[39mbar(prior_exp_counts\u001b[39m.\u001b[39mkeys(), prior_exp_counts\u001b[39m.\u001b[39mvalues())\n\u001b[0;32m     13\u001b[0m axes[\u001b[39m1\u001b[39m]\u001b[39m.\u001b[39mtick_params(axis\u001b[39m=\u001b[39m\u001b[39m'\u001b[39m\u001b[39mx\u001b[39m\u001b[39m'\u001b[39m, labelrotation \u001b[39m=\u001b[39m \u001b[39m45\u001b[39m)\n\u001b[1;32m---> 15\u001b[0m axes[\u001b[39m2\u001b[39m]\u001b[39m.\u001b[39mset_title(\u001b[39m\"\u001b[39m\u001b[39mValue Rating\u001b[39m\u001b[39m\"\u001b[39m)\n\u001b[0;32m     16\u001b[0m axes[\u001b[39m2\u001b[39m]\u001b[39m.\u001b[39mbar(valuable_counts\u001b[39m.\u001b[39mkeys(), valuable_counts\u001b[39m.\u001b[39mvalues())\n\u001b[0;32m     17\u001b[0m axes[\u001b[39m2\u001b[39m]\u001b[39m.\u001b[39mtick_params(axis\u001b[39m=\u001b[39m\u001b[39m'\u001b[39m\u001b[39mx\u001b[39m\u001b[39m'\u001b[39m, labelrotation \u001b[39m=\u001b[39m \u001b[39m45\u001b[39m)\n",
      "\u001b[1;31mIndexError\u001b[0m: index 2 is out of bounds for axis 0 with size 2"
     ]
    },
    {
     "data": {
      "image/png": "[encoded data removed]",
      "text/plain": [
       "<Figure size 864x360 with 2 Axes>"
      ]
     },
     "metadata": {
      "needs_background": "light"
     },
     "output_type": "display_data"
    }
   ],
   "source": [
    "from matplotlib import pyplot as plt\n",
    "\n",
    "fig, axes = plt.subplots(1, 2, figsize=(12, 5), sharey=True)\n",
    "fig.suptitle(\"COMP 110 Student Majors, Prior Experience, and Found Value in the Class\")\n",
    "\n",
    "\n",
    "axes[0].set_title(\"Comp Major Status\")\n",
    "axes[0].bar(comp_major_counts.keys(), comp_major_counts.values())\n",
    "axes[0].tick_params(axis='x', labelrotation = 45)\n",
    "\n",
    "axes[1].set_title(\"Prior Experience\")\n",
    "axes[1].bar(prior_exp_counts.keys(), prior_exp_counts.values())\n",
    "axes[1].tick_params(axis='x', labelrotation = 45)\n",
    "\n",
    "axes[2].set_title(\"Value Rating\")\n",
    "axes[2].bar(valuable_counts.keys(), valuable_counts.values())\n",
    "axes[2].tick_params(axis='x', labelrotation = 45)"
   ]
  },
  {
   "cell_type": "markdown",
   "metadata": {},
   "source": [
    "## Conclusion\n",
    "\n",
    "In the following markdown cell, write a reflective conclusion given the analysis you performed and identify recommendations.\n",
    "\n",
    "If your analysis of the data supports your idea, state your recommendation for the change and summarize the data analysys results you found which support it. Additionally, describe any extensions or refinements to this idea which might be explored further. Finally, discuss the potential costs, trade-offs, or stakeholders who may be negatively impacted by this proposed change.\n",
    "\n",
    "If your analysis of the data is inconclusive, summarize why your data analysis results were inconclusive in the support of your idea. Additionally, describe what experimental idea implementation or additional data collection might help build more confidence in assessing your idea. Finally, discuss the potential costs, trade-offs, or stakeholders who may be negatively impacted by experimenting with your idea.\n",
    "\n",
    "Finally, if your analysis of the data does not support it, summarize your data analysis results and why it refutes your idea. Discuss the potential costs, trade-offs, or stakeholders who may be negatively impacted by this proposed change. If you disagree with the validity of the findings, describe why your idea still makes sense to implement and what alternative data would better support it. If you agree with the validity of the data analysis, describe what alternate ideas or extensions you would explore instead. "
   ]
  },
  {
   "cell_type": "markdown",
   "metadata": {},
   "source": [
    "### Part 5. Conclusion\n",
    "\n"
   ]
  },
  {
   "cell_type": "markdown",
   "metadata": {},
   "source": [
    "According to these data, many students in COMP 110 are computer science majors, many students are new to programming, and many students rate the class a 7 on a scale of 1-7 for value, with 1 being the lowest possible score and 7 being the highest. As such, one can assume that many students in the class would be interested in getting involved with computer science opportunities through COMP 110. However, it should also be noted that this analysis includes only a small sample population, and may not reflect the overall class data perfectly.\n",
    "\n",
    "This idea could be carried out by creating a listserv group for students to sign up for at the beginning of the semester, and presumably keep up with during future semesters.\n",
    "\n",
    "However, potential drawbacks of this idea include students signing up for the Listserv and receiving more emails than they will want to read, or sending emails to any students who lose interest in computer science over time, but who remain on the Listserv.\n",
    "\n",
    "To avoid these drawbacks, a survey could be sent out each semester asking students if they wish to remain on the listserv or not, and if they would like to recommend it to friends who are not currently on the list. Drawbacks could also be avoided by asking students how many emails from the group they would want to read each week."
   ]
  }
 ],
 "metadata": {
  "interpreter": {
   "hash": "aee8b7b246df8f9039afb4144a1f6fd8d2ca17a180786b69acc140d282b71a49"
  },
  "kernelspec": {
   "display_name": "Python 3.10.2 64-bit",
   "language": "python",
   "name": "python3"
  },
  "language_info": {
   "codemirror_mode": {
    "name": "ipython",
    "version": 3
   },
   "file_extension": ".py",
   "mimetype": "text/x-python",
   "name": "python",
   "nbconvert_exporter": "python",
   "pygments_lexer": "ipython3",
   "version": "3.10.2"
  },
  "orig_nbformat": 4
 },
 "nbformat": 4,
 "nbformat_minor": 2
}
